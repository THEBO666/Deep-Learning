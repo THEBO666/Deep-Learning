{
 "cells": [
  {
   "cell_type": "code",
   "execution_count": null,
   "metadata": {},
   "outputs": [],
   "source": [
    "import numpy as np\n",
    "import matplotlib.pylab as plt\n",
    "\n",
    "def step_fun(x): # 阶跃函数\n",
    "    if x > 0:\n",
    "        return 1\n",
    "    else:\n",
    "        return 0"
   ]
  },
  {
   "cell_type": "code",
   "execution_count": 16,
   "metadata": {},
   "outputs": [
    {
     "name": "stdout",
     "output_type": "stream",
     "text": [
      "Optimal value: 9.820494558985075\n",
      "Optimal x: [ 8.88858589e+00 -1.02878454e-08 -9.31908690e-01]\n"
     ]
    }
   ],
   "source": [
    "import cvxpy as cp\n",
    "import numpy as np\n",
    "n = 3\n",
    "m = 2\n",
    "A = np.array([[1, 2, 3], [4, 5,6]])\n",
    "y = np.array([6,30])\n",
    "ε = 0.1\n",
    "x = cp.Variable(n)\n",
    "t = cp.Variable(n)\n",
    "objective = cp.Minimize(cp.sum(t))\n",
    "constraints = [ -t <= x, x <= t, cp.norm(A @ x - y) <= ε ]\n",
    "prob = cp.Problem(objective, constraints)\n",
    "prob.solve()\n",
    "print(\"Optimal value:\", prob.value)\n",
    "print(\"Optimal x:\", x.value)\n",
    "def MLP(x):\n",
    "    return 1 if x > 0 else 0\n"
   ]
  }
 ],
 "metadata": {
  "kernelspec": {
   "display_name": "pytorch",
   "language": "python",
   "name": "python3"
  },
  "language_info": {
   "codemirror_mode": {
    "name": "ipython",
    "version": 3
   },
   "file_extension": ".py",
   "mimetype": "text/x-python",
   "name": "python",
   "nbconvert_exporter": "python",
   "pygments_lexer": "ipython3",
   "version": "3.10.0"
  }
 },
 "nbformat": 4,
 "nbformat_minor": 2
}
